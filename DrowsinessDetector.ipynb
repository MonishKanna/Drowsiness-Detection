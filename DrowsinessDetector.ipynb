{
 "cells": [
  {
   "cell_type": "markdown",
   "metadata": {},
   "source": [
    "# Drowsiness Detection"
   ]
  },
  {
   "cell_type": "code",
   "execution_count": 2,
   "metadata": {},
   "outputs": [],
   "source": [
    "import cv2\n",
    "import numpy as np\n",
    "import tensorflow as tf\n",
    "from tensorflow.keras.models import Model\n",
    "from tensorflow.keras.models import load_model"
   ]
  },
  {
   "cell_type": "code",
   "execution_count": 3,
   "metadata": {},
   "outputs": [],
   "source": [
    "# the threshold defines the number of frames which\n",
    "# determines whether the driver is drowsy or not\n",
    "DROWSY_THRESHOLD = 15"
   ]
  },
  {
   "cell_type": "code",
   "execution_count": 5,
   "metadata": {},
   "outputs": [],
   "source": [
    "# cascade classifiers taken from OpenCV\n",
    "face_classifier = cv2.CascadeClassifier('../model/haarcascade_frontalface_default.xml')\n",
    "eyes_classifier = cv2.CascadeClassifier('../model/haarcascade_eye.xml')\n",
    "\n",
    "model=load_model('../model/cnn_model.h5')\n",
    "\n",
    "# convert the image to rgb scale\n",
    "def to_grayscale_then_rgb(image):\n",
    "    image = tf.image.rgb_to_grayscale(image)\n",
    "    image = tf.image.grayscale_to_rgb(image)\n",
    "    return image\n",
    "\n",
    "close_frame = 0\n",
    "prev_eyes = []\n",
    "\n",
    "# find the eyes from the face, and then feed it into our trained CNN model to detect drowsiness\n",
    "def face_ROI(frame):\n",
    "    \n",
    "    global close_frame, prev_eyes\n",
    "    \n",
    "    frame_gray = cv2.cvtColor(frame, cv2.COLOR_BGR2GRAY)\n",
    "    faces = face_classifier.detectMultiScale(frame_gray, 1.3, 3, minSize=(30, 30))\n",
    "    \n",
    "    for (x,y,w,h) in faces:\n",
    "        \n",
    "        cv2.rectangle(frame,(x,y),(x+w,y+h),(255,0,0),2)\n",
    "        face_gray = frame_gray[y:y+h, x:x+w]\n",
    "        face = frame[y:y+h, x:x+w]\n",
    "        eyes = eyes_classifier.detectMultiScale(face_gray)\n",
    "    \n",
    "        new_eyes = []\n",
    "        for (x2,y2,w2,h2) in eyes:\n",
    "            \n",
    "            # only detect features on th upper half of the face\n",
    "            if y2+h2/2 > h/2: \n",
    "                continue\n",
    "            \n",
    "            new_eyes.append((x2,y2,w2,h2))\n",
    "\n",
    "        if new_eyes:\n",
    "            prev_eyes = new_eyes\n",
    "        else:\n",
    "            close_frame += 1\n",
    "            \n",
    "        for (x2,y2,w2,h2) in prev_eyes:\n",
    "            cv2.rectangle(face,(x2,y2),(x2+w2,y2+h2),(0,0,255),2)\n",
    "            eye = face_gray[y2:y2+h2, x2:x2+w2]\n",
    "            eye = cv2.cvtColor(eye, cv2.COLOR_GRAY2BGR)\n",
    "            try:\n",
    "                eye = cv2.resize(eye, (50, 50))\n",
    "            except Exception as e:\n",
    "                break\n",
    "            eye = eye/255\n",
    "            eye = np.array(eye)\n",
    "            eye = np.expand_dims(eye, axis=0)\n",
    "            prediction = model.predict(eye)\n",
    "            if(prediction[0][0] < 0.5):\n",
    "                close_frame += 1\n",
    "            else:\n",
    "                close_frame = max(0, close_frame-1)\n",
    "        \n",
    "        # alert the driver if they exceed drowsiness threshold\n",
    "        if close_frame >= DROWSY_THRESHOLD:\n",
    "            cv2.putText(frame, \n",
    "                        \"DROWSY!!!\", \n",
    "                        (50, 50), \n",
    "                        cv2.FONT_HERSHEY_SIMPLEX, 1, \n",
    "                        (0, 0, 255), \n",
    "                        2, \n",
    "                        cv2.LINE_4)    \n",
    "\n",
    "    cv2.imshow('TEAM12', frame)"
   ]
  },
  {
   "cell_type": "markdown",
   "metadata": {},
   "source": [
    "## Start Video Capture and Drowsiness Classification"
   ]
  },
  {
   "cell_type": "code",
   "execution_count": 6,
   "metadata": {},
   "outputs": [
    {
     "name": "stdout",
     "output_type": "stream",
     "text": [
      "5.0\n",
      "WARNING:tensorflow:AutoGraph could not transform <function Model.make_predict_function.<locals>.predict_function at 0x7fcb10ff5b00> and will run it as-is.\n",
      "Please report this to the TensorFlow team. When filing the bug, set the verbosity to 10 (on Linux, `export AUTOGRAPH_VERBOSITY=10`) and attach the full output.\n",
      "Cause: 'arguments' object has no attribute 'posonlyargs'\n",
      "To silence this warning, decorate the function with @tf.autograph.experimental.do_not_convert\n",
      "WARNING: AutoGraph could not transform <function Model.make_predict_function.<locals>.predict_function at 0x7fcb10ff5b00> and will run it as-is.\n",
      "Please report this to the TensorFlow team. When filing the bug, set the verbosity to 10 (on Linux, `export AUTOGRAPH_VERBOSITY=10`) and attach the full output.\n",
      "Cause: 'arguments' object has no attribute 'posonlyargs'\n",
      "To silence this warning, decorate the function with @tf.autograph.experimental.do_not_convert\n"
     ]
    }
   ],
   "source": [
    "vid = cv2.VideoCapture(0)\n",
    "print(vid.get(cv2.CAP_PROP_FPS))\n",
    "while(True):\n",
    "      \n",
    "    # Capture the video frame by frame\n",
    "    ret, frame = vid.read()\n",
    "    frame = cv2.flip(frame, 1)\n",
    "    frame = cv2.resize(frame,(500,250))\n",
    "    face_ROI(frame)\n",
    "    \n",
    "    # press the 'q' button to quit\n",
    "    if cv2.waitKey(1) & 0xFF == ord('q'):\n",
    "        break\n",
    "    \n",
    "# release the cap object\n",
    "vid.release()\n",
    "# Destroy all the windows\n",
    "cv2.destroyAllWindows()"
   ]
  },
  {
   "cell_type": "code",
   "execution_count": null,
   "metadata": {},
   "outputs": [],
   "source": []
  }
 ],
 "metadata": {
  "kernelspec": {
   "display_name": "Python 3 (ipykernel)",
   "language": "python",
   "name": "python3"
  },
  "language_info": {
   "codemirror_mode": {
    "name": "ipython",
    "version": 3
   },
   "file_extension": ".py",
   "mimetype": "text/x-python",
   "name": "python",
   "nbconvert_exporter": "python",
   "pygments_lexer": "ipython3",
   "version": "3.7.13"
  },
  "vscode": {
   "interpreter": {
    "hash": "397704579725e15f5c7cb49fe5f0341eb7531c82d19f2c29d197e8b64ab5776b"
   }
  }
 },
 "nbformat": 4,
 "nbformat_minor": 4
}
